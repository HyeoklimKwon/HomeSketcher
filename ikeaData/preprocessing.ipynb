{
 "cells": [
  {
   "cell_type": "code",
   "execution_count": 1,
   "metadata": {},
   "outputs": [
    {
     "name": "stdout",
     "output_type": "stream",
     "text": [
      "데이터 전처리 전 데이터 개수:  11823\n",
      "ikea 데이터 컬럼 명 :  Index(['product_title', 'product_url', 'img_url', 'product_price',\n",
      "       'average_rating', 'reviews_count', 'width', 'height', 'legth',\n",
      "       'breadcrumbs_category_main', 'breadcrumbs_category_sub'],\n",
      "      dtype='object')\n"
     ]
    }
   ],
   "source": [
    "import json\n",
    "import pandas as pd\n",
    "\n",
    "df = pd.read_json('ikea_mod_simple_img.json') ## pd.read_json 이용\n",
    "print('데이터 전처리 전 데이터 개수: ' , len(df))\n",
    "print('ikea 데이터 컬럼 명 : ', df.columns)"
   ]
  },
  {
   "cell_type": "code",
   "execution_count": 2,
   "metadata": {},
   "outputs": [
    {
     "name": "stdout",
     "output_type": "stream",
     "text": [
      "제거된 수:  4180\n",
      "이미지 데이터 null 값 제거후 데이터 수:  7643\n"
     ]
    }
   ],
   "source": [
    "df_mod = df[df.img_url !='']\n",
    "print('제거된 수: ' , len(df)-len(df_mod))\n",
    "print('이미지 데이터 null 값 제거후 데이터 수: ', len(df_mod))\n",
    "\n",
    "df_mod.to_csv('delete_imgurl.csv')"
   ]
  },
  {
   "cell_type": "code",
   "execution_count": 3,
   "metadata": {},
   "outputs": [
    {
     "data": {
      "text/html": [
       "<div>\n",
       "<style scoped>\n",
       "    .dataframe tbody tr th:only-of-type {\n",
       "        vertical-align: middle;\n",
       "    }\n",
       "\n",
       "    .dataframe tbody tr th {\n",
       "        vertical-align: top;\n",
       "    }\n",
       "\n",
       "    .dataframe thead th {\n",
       "        text-align: right;\n",
       "    }\n",
       "</style>\n",
       "<table border=\"1\" class=\"dataframe\">\n",
       "  <thead>\n",
       "    <tr style=\"text-align: right;\">\n",
       "      <th></th>\n",
       "      <th>product_title</th>\n",
       "      <th>product_url</th>\n",
       "      <th>img_url</th>\n",
       "      <th>product_price</th>\n",
       "      <th>average_rating</th>\n",
       "      <th>reviews_count</th>\n",
       "      <th>width</th>\n",
       "      <th>height</th>\n",
       "      <th>legth</th>\n",
       "      <th>breadcrumbs_category_main</th>\n",
       "      <th>breadcrumbs_category_sub</th>\n",
       "    </tr>\n",
       "  </thead>\n",
       "  <tbody>\n",
       "    <tr>\n",
       "      <th>0</th>\n",
       "      <td>JÄRVFJÄLLET Office chair with armrests</td>\n",
       "      <td>https://www.ikea.com/us/en/p/jaervfjaellet-off...</td>\n",
       "      <td>https://www.ikea.com/us/en/images/products/jae...</td>\n",
       "      <td>279.0</td>\n",
       "      <td></td>\n",
       "      <td></td>\n",
       "      <td>23.25</td>\n",
       "      <td>8.75</td>\n",
       "      <td>38.25</td>\n",
       "      <td>Chairs</td>\n",
       "      <td>Desk chairs</td>\n",
       "    </tr>\n",
       "  </tbody>\n",
       "</table>\n",
       "</div>"
      ],
      "text/plain": [
       "                            product_title  \\\n",
       "0  JÄRVFJÄLLET Office chair with armrests   \n",
       "\n",
       "                                         product_url  \\\n",
       "0  https://www.ikea.com/us/en/p/jaervfjaellet-off...   \n",
       "\n",
       "                                             img_url  product_price  \\\n",
       "0  https://www.ikea.com/us/en/images/products/jae...          279.0   \n",
       "\n",
       "  average_rating reviews_count  width  height  legth  \\\n",
       "0                               23.25    8.75  38.25   \n",
       "\n",
       "  breadcrumbs_category_main breadcrumbs_category_sub  \n",
       "0                    Chairs              Desk chairs  "
      ]
     },
     "execution_count": 3,
     "metadata": {},
     "output_type": "execute_result"
    }
   ],
   "source": [
    "df_mod.head(1)"
   ]
  },
  {
   "cell_type": "code",
   "execution_count": 4,
   "metadata": {},
   "outputs": [
    {
     "name": "stdout",
     "output_type": "stream",
     "text": [
      "{'Storage solution systems': 586, 'Sofas & sectionals': 415, 'TV & media furniture': 317, 'Bedding': 294, 'Tables & desks': 290, 'Display & storage cabinets': 279, 'Beds': 225, 'Patio furniture': 224, 'Shelving units, bookcases & storage options': 190, 'Chairs': 167, 'Bathroom vanities': 147, 'Storage containers': 136, 'Lamps & light fixtures': 132, 'Window treatments': 116, 'Dressers & storage drawers': 99, 'Armchairs & accent chairs': 97, 'Rugs': 88, 'Wall shelves': 65, 'Storage boxes & baskets': 62, 'Wall décor': 60, 'Kids': 60, 'Armoires & wardrobes': 55, 'Bathroom textiles': 53, 'Kitchen drawer organization': 45, 'Kids furniture': 44, 'Mattresses': 40, 'Plants & flowers': 39, 'Flower pots & stands': 39, 'Kitchen wall organization & storage': 36, 'Mirrors': 35, 'Dinnerware': 35, 'Umbrellas & gazebos': 34, 'Cookware & kitchenware': 32, 'Serveware': 26, 'Appliances': 26, 'Kitchen countertops': 26, 'Candle holders & candles': 24, 'Drinkware': 24, 'Cords & chargers': 22, 'Kitchen & cooking accessories': 22, 'Decorative lighting': 22, 'Flatware': 21, 'Coffee & tea': 19, 'Cats': 19, 'Clothes organizers': 18, 'Outdoor storage benches, boxes & cabinets': 18, 'Mattress bases': 17, 'Kitchen textiles': 17, 'Kitchen faucets & sinks': 17, 'Speakers': 17, 'Noticeboards': 16, 'Bakeware': 16, 'Decorative accessories': 15, 'Vases & bowls': 15, 'LED Light bulbs': 14, 'Bags': 14, 'Baby': 13, 'Knives & cutting boards': 13, 'Table linen': 13, 'Bathroom furniture sets': 12, 'Knobs, handles, & pulls': 11, 'Bathroom sinks': 11, 'Kitchen islands & carts': 11, 'Dishwashing accessories': 11, 'Cleaning accessories': 11, 'Clocks': 11, 'Wall shelves & hooks': 10, 'Snacks & sweets': 10, 'Bathroom faucets': 10}\n"
     ]
    }
   ],
   "source": [
    "# df_mod.breadcrumbs_category_main.value_counts()\n",
    "# print(df_mod.breadcrumbs_category_main.value_counts())\n",
    "name = list(df_mod.breadcrumbs_category_main.value_counts().keys())\n",
    "value = list(df_mod.breadcrumbs_category_main.value_counts())\n",
    "\n",
    "result = {}\n",
    "\n",
    "# 영훈 피드백 & 10개 이하인 것들 제거\n",
    "delete_list = ['Kitchen systems','Wall shelves','Wall décor','Bathroom textiles','Kitchen drawer organization','Kids',\n",
    "    'Kitchen wall organization & storage', 'Dinnerware','Drinkware','Candle holders & candles','Cookware & kitchenware',\n",
    "    'Serveware', 'Umbrellas & gazebos', 'Kitchen countertops', 'Cords & chargers', 'Kitchen & cooking accessories',\n",
    "    'Flatware','Coffee & tea', 'Kitchen textiles', 'Kitchen faucets & sinks', 'Bakeware','Bags','Baby',\n",
    "    'Knives & cutting boards','Table linen','Knobs, handles, & pulls','Kitchen islands & carts','Dishwashing accessories','Cleaning accessories']\n",
    "\n",
    "for i in range(len(name)):\n",
    "    for delete_item in delete_list:\n",
    "        if ( delete_item == name[i] ) or ( value[i] < 10 ):\n",
    "            break\n",
    "        else:\n",
    "            result[name[i]] = value[i]\n",
    "print(result)\n"
   ]
  },
  {
   "cell_type": "code",
   "execution_count": 9,
   "metadata": {},
   "outputs": [
    {
     "name": "stdout",
     "output_type": "stream",
     "text": [
      "5128\n"
     ]
    }
   ],
   "source": [
    "mod_class = list(result.keys())\n",
    "total_sum = sum(result.values())\n",
    "print(total_sum)"
   ]
  },
  {
   "cell_type": "code",
   "execution_count": 10,
   "metadata": {},
   "outputs": [
    {
     "name": "stdout",
     "output_type": "stream",
     "text": [
      "제거후 아이템수 : 5128\n"
     ]
    }
   ],
   "source": [
    "df_1 = df_mod.loc[(df.breadcrumbs_category_main == mod_class[0] )]\n",
    "# print(df_1)\n",
    "for class_i in mod_class[1::]:\n",
    "    df_2= df_mod.loc[(df.breadcrumbs_category_main == class_i )]\n",
    "    # print(len(df_2))\n",
    "    df_1 = pd.concat([df_1, df_2])\n",
    "print(\"제거후 아이템수 :\" ,len(df_1))\n"
   ]
  },
  {
   "cell_type": "code",
   "execution_count": null,
   "metadata": {},
   "outputs": [],
   "source": [
    "df_1"
   ]
  },
  {
   "cell_type": "code",
   "execution_count": 38,
   "metadata": {},
   "outputs": [
    {
     "name": "stdout",
     "output_type": "stream",
     "text": [
      "대분류 갯수:  69\n",
      "소분류 갯수:  361\n"
     ]
    }
   ],
   "source": [
    "# 우리는 소분류 개수만큼 OBJ 파일이 있어야한다. \n",
    "print(\"대분류 갯수: \", len(df_1.breadcrumbs_category_main.value_counts()))\n",
    "print(\"소분류 갯수: \", len(df_1.breadcrumbs_category_sub.value_counts()))"
   ]
  },
  {
   "cell_type": "code",
   "execution_count": 33,
   "metadata": {},
   "outputs": [],
   "source": [
    "# 2차 피드백\n",
    "# [\"Sofas & sectionals\",\"Beds\",\"Tables & desks\",\"Chairs\",\"TV & media furniture\",\"Shelving units, bookcases & storage options\",\n",
    "#   \"Dressers & storage drawers\",\"Display & storage cabinets\",\"Storage containers\",\"Armoires & wardrobes\",\n",
    "#   \"Lamps & light fixtures,\",\"Kid\"]\n",
    "feedback_list = [\"Sofas & sectionals\",\"Beds\",\"Tables & desks\",\"Chairs\",\"TV & media furniture\",\"Shelving units, bookcases & storage options\",\n",
    "  \"Dressers & storage drawers\",\"Display & storage cabinets\",\"Storage containers\",\"Armoires & wardrobes\",\n",
    "  \"Lamps & light fixtures\",\"Kids furniture\"]"
   ]
  },
  {
   "cell_type": "code",
   "execution_count": 34,
   "metadata": {},
   "outputs": [
    {
     "name": "stdout",
     "output_type": "stream",
     "text": [
      "제거후 아이템수 : 2305\n"
     ]
    }
   ],
   "source": [
    "df_3 = df_mod.loc[(df.breadcrumbs_category_main == feedback_list[0] )]\n",
    "# print(df_1)\n",
    "for class_i in feedback_list[1::]:\n",
    "    df_4= df_mod.loc[(df.breadcrumbs_category_main == class_i )]\n",
    "    # print(len(df_2))\n",
    "    df_3 = pd.concat([df_3, df_4])\n",
    "print(\"제거후 아이템수 :\" ,len(df_3))"
   ]
  },
  {
   "cell_type": "code",
   "execution_count": 35,
   "metadata": {},
   "outputs": [
    {
     "name": "stdout",
     "output_type": "stream",
     "text": [
      "대분류 갯수:  11\n",
      "소분류 갯수:  74\n"
     ]
    }
   ],
   "source": [
    "df_3.average_rating = df_3.average_rating.replace('',0, regex=True)\n",
    "df_3.average_rating = df_3.average_rating.astype('float')\n",
    "df_3.reviews_count = df_3.reviews_count.replace('',0, regex=True)\n",
    "df_3.reviews_count = df_3.reviews_count.astype('float')\n",
    "\n",
    "print(\"대분류 갯수: \", len(df_3.breadcrumbs_category_main.value_counts()))\n",
    "print(\"소분류 갯수: \", len(df_3.breadcrumbs_category_sub.value_counts()))"
   ]
  },
  {
   "cell_type": "code",
   "execution_count": 36,
   "metadata": {},
   "outputs": [
    {
     "data": {
      "text/plain": [
       "Sofas & sectionals                             415\n",
       "TV & media furniture                           317\n",
       "Tables & desks                                 290\n",
       "Display & storage cabinets                     279\n",
       "Beds                                           225\n",
       "Shelving units, bookcases & storage options    190\n",
       "Chairs                                         167\n",
       "Storage containers                             136\n",
       "Lamps & light fixtures                         132\n",
       "Dressers & storage drawers                      99\n",
       "Armoires & wardrobes                            55\n",
       "Name: breadcrumbs_category_main, dtype: int64"
      ]
     },
     "execution_count": 36,
     "metadata": {},
     "output_type": "execute_result"
    }
   ],
   "source": [
    "df_3.breadcrumbs_category_main.value_counts()"
   ]
  },
  {
   "cell_type": "code",
   "execution_count": 30,
   "metadata": {},
   "outputs": [
    {
     "name": "stdout",
     "output_type": "stream",
     "text": [
      "Empty DataFrame\n",
      "Columns: [product_title, product_url, img_url, product_price, average_rating, reviews_count, width, height, legth, breadcrumbs_category_main, breadcrumbs_category_sub]\n",
      "Index: []\n"
     ]
    },
    {
     "data": {
      "text/plain": [
       "0"
      ]
     },
     "execution_count": 30,
     "metadata": {},
     "output_type": "execute_result"
    }
   ],
   "source": [
    "t = df_3[(df_3.breadcrumbs_category_main == 'Kid')]\n",
    "print(t)\n",
    "len(t.breadcrumbs_category_sub.value_counts())"
   ]
  },
  {
   "cell_type": "code",
   "execution_count": null,
   "metadata": {},
   "outputs": [],
   "source": []
  }
 ],
 "metadata": {
  "kernelspec": {
   "display_name": "Python 3.9.10 64-bit",
   "language": "python",
   "name": "python3"
  },
  "language_info": {
   "codemirror_mode": {
    "name": "ipython",
    "version": 3
   },
   "file_extension": ".py",
   "mimetype": "text/x-python",
   "name": "python",
   "nbconvert_exporter": "python",
   "pygments_lexer": "ipython3",
   "version": "3.9.10"
  },
  "orig_nbformat": 4,
  "vscode": {
   "interpreter": {
    "hash": "0eae3c92db1e7ba7c67fd667ce91fe97df6e78549772a3acd7995529de150854"
   }
  }
 },
 "nbformat": 4,
 "nbformat_minor": 2
}
